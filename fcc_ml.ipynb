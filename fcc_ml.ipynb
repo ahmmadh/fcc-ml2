{
 "cells": [
  {
   "cell_type": "code",
   "execution_count": 1,
   "id": "b3f040c7",
   "metadata": {},
   "outputs": [],
   "source": [
    "import numpy as np\n",
    "import pandas as pd\n",
    "import matplotlib.pyplot as plt\n",
    "from sklearn.model_selection import train_test_split\n",
    "from sklearn.metrics import classification_report, accuracy_score\n",
    "from sklearn.naive_bayes import GaussianNB\n",
    "from sklearn.linear_model import LogisticRegression, LinearRegression\n",
    "from sklearn.preprocessing import StandardScaler\n",
    "import gradio as gr"
   ]
  },
  {
   "cell_type": "markdown",
   "id": "c128a7f8",
   "metadata": {},
   "source": [
    "# Classification using Gaussian Probabilty"
   ]
  },
  {
   "cell_type": "code",
   "execution_count": 2,
   "id": "0e588175",
   "metadata": {},
   "outputs": [],
   "source": [
    "df2 = pd.read_csv(\"heart.csv\") # https://www.kaggle.com/datasets/rashikrahmanpritom/heart-attack-analysis-prediction-dataset"
   ]
  },
  {
   "cell_type": "code",
   "execution_count": 3,
   "id": "6a33a90f",
   "metadata": {},
   "outputs": [
    {
     "data": {
      "text/html": [
       "<div>\n",
       "<style scoped>\n",
       "    .dataframe tbody tr th:only-of-type {\n",
       "        vertical-align: middle;\n",
       "    }\n",
       "\n",
       "    .dataframe tbody tr th {\n",
       "        vertical-align: top;\n",
       "    }\n",
       "\n",
       "    .dataframe thead th {\n",
       "        text-align: right;\n",
       "    }\n",
       "</style>\n",
       "<table border=\"1\" class=\"dataframe\">\n",
       "  <thead>\n",
       "    <tr style=\"text-align: right;\">\n",
       "      <th></th>\n",
       "      <th>age</th>\n",
       "      <th>sex</th>\n",
       "      <th>cp</th>\n",
       "      <th>trtbps</th>\n",
       "      <th>chol</th>\n",
       "      <th>fbs</th>\n",
       "      <th>restecg</th>\n",
       "      <th>thalachh</th>\n",
       "      <th>exng</th>\n",
       "      <th>oldpeak</th>\n",
       "      <th>slp</th>\n",
       "      <th>caa</th>\n",
       "      <th>thall</th>\n",
       "      <th>output</th>\n",
       "    </tr>\n",
       "  </thead>\n",
       "  <tbody>\n",
       "    <tr>\n",
       "      <th>0</th>\n",
       "      <td>63</td>\n",
       "      <td>1</td>\n",
       "      <td>3</td>\n",
       "      <td>145</td>\n",
       "      <td>233</td>\n",
       "      <td>1</td>\n",
       "      <td>0</td>\n",
       "      <td>150</td>\n",
       "      <td>0</td>\n",
       "      <td>2.3</td>\n",
       "      <td>0</td>\n",
       "      <td>0</td>\n",
       "      <td>1</td>\n",
       "      <td>1</td>\n",
       "    </tr>\n",
       "    <tr>\n",
       "      <th>1</th>\n",
       "      <td>37</td>\n",
       "      <td>1</td>\n",
       "      <td>2</td>\n",
       "      <td>130</td>\n",
       "      <td>250</td>\n",
       "      <td>0</td>\n",
       "      <td>1</td>\n",
       "      <td>187</td>\n",
       "      <td>0</td>\n",
       "      <td>3.5</td>\n",
       "      <td>0</td>\n",
       "      <td>0</td>\n",
       "      <td>2</td>\n",
       "      <td>1</td>\n",
       "    </tr>\n",
       "    <tr>\n",
       "      <th>2</th>\n",
       "      <td>41</td>\n",
       "      <td>0</td>\n",
       "      <td>1</td>\n",
       "      <td>130</td>\n",
       "      <td>204</td>\n",
       "      <td>0</td>\n",
       "      <td>0</td>\n",
       "      <td>172</td>\n",
       "      <td>0</td>\n",
       "      <td>1.4</td>\n",
       "      <td>2</td>\n",
       "      <td>0</td>\n",
       "      <td>2</td>\n",
       "      <td>1</td>\n",
       "    </tr>\n",
       "    <tr>\n",
       "      <th>3</th>\n",
       "      <td>56</td>\n",
       "      <td>1</td>\n",
       "      <td>1</td>\n",
       "      <td>120</td>\n",
       "      <td>236</td>\n",
       "      <td>0</td>\n",
       "      <td>1</td>\n",
       "      <td>178</td>\n",
       "      <td>0</td>\n",
       "      <td>0.8</td>\n",
       "      <td>2</td>\n",
       "      <td>0</td>\n",
       "      <td>2</td>\n",
       "      <td>1</td>\n",
       "    </tr>\n",
       "    <tr>\n",
       "      <th>4</th>\n",
       "      <td>57</td>\n",
       "      <td>0</td>\n",
       "      <td>0</td>\n",
       "      <td>120</td>\n",
       "      <td>354</td>\n",
       "      <td>0</td>\n",
       "      <td>1</td>\n",
       "      <td>163</td>\n",
       "      <td>1</td>\n",
       "      <td>0.6</td>\n",
       "      <td>2</td>\n",
       "      <td>0</td>\n",
       "      <td>2</td>\n",
       "      <td>1</td>\n",
       "    </tr>\n",
       "  </tbody>\n",
       "</table>\n",
       "</div>"
      ],
      "text/plain": [
       "   age  sex  cp  trtbps  chol  fbs  restecg  thalachh  exng  oldpeak  slp  \\\n",
       "0   63    1   3     145   233    1        0       150     0      2.3    0   \n",
       "1   37    1   2     130   250    0        1       187     0      3.5    0   \n",
       "2   41    0   1     130   204    0        0       172     0      1.4    2   \n",
       "3   56    1   1     120   236    0        1       178     0      0.8    2   \n",
       "4   57    0   0     120   354    0        1       163     1      0.6    2   \n",
       "\n",
       "   caa  thall  output  \n",
       "0    0      1       1  \n",
       "1    0      2       1  \n",
       "2    0      2       1  \n",
       "3    0      2       1  \n",
       "4    0      2       1  "
      ]
     },
     "execution_count": 3,
     "metadata": {},
     "output_type": "execute_result"
    }
   ],
   "source": [
    "df2.head()"
   ]
  },
  {
   "cell_type": "code",
   "execution_count": 4,
   "id": "225571c4",
   "metadata": {},
   "outputs": [],
   "source": [
    "# train, valid, test = np.split(df2.sample(frac=1), [int(0.6*len(df2)), int(0.8*len(df2))])\n",
    "# i didn't use the validation set yet just made them for future use"
   ]
  },
  {
   "cell_type": "code",
   "execution_count": 5,
   "id": "b2a91f05",
   "metadata": {},
   "outputs": [],
   "source": [
    "train_valid, test = train_test_split(df2, test_size=0.2, random_state=42)\n",
    "\n",
    "train, valid = train_test_split(train_valid, test_size=0.25, random_state=42)  # 0.25 * 0.8 = 0.2"
   ]
  },
  {
   "cell_type": "code",
   "execution_count": 6,
   "id": "3061f825",
   "metadata": {},
   "outputs": [],
   "source": [
    "# Preprocessing\n",
    "x_train = train.drop('output', axis=1)\n",
    "y_train = train['output']\n",
    "\n",
    "x_valid = valid.drop('output', axis=1)\n",
    "y_valid = valid['output']\n",
    "\n",
    "x_test = test.drop('output', axis=1)\n",
    "y_test = test['output']"
   ]
  },
  {
   "cell_type": "code",
   "execution_count": 7,
   "id": "a9579ceb",
   "metadata": {},
   "outputs": [
    {
     "name": "stdout",
     "output_type": "stream",
     "text": [
      "              precision    recall  f1-score   support\n",
      "\n",
      "           0       0.84      0.90      0.87        29\n",
      "           1       0.90      0.84      0.87        32\n",
      "\n",
      "    accuracy                           0.87        61\n",
      "   macro avg       0.87      0.87      0.87        61\n",
      "weighted avg       0.87      0.87      0.87        61\n",
      "\n"
     ]
    }
   ],
   "source": [
    "# gaussian probability model\n",
    "nb_model = GaussianNB()\n",
    "nb_model = nb_model.fit(x_train,y_train)\n",
    "\n",
    "y_pred = nb_model.predict(x_test)\n",
    "\n",
    "print(classification_report(y_test,y_pred))"
   ]
  },
  {
   "cell_type": "code",
   "execution_count": 10,
   "id": "430a56b2",
   "metadata": {},
   "outputs": [],
   "source": [
    "#function used for gradio passes user input and typecasts the gradio objects into integers or floats, and creates a single instance data frame for prediction\n",
    "def dinput(age,sex,cp,trtbps,chol,fbs,restecg,thalachh,exng,oldpeak,slp,caa,thall):\n",
    "        #mapping the user input into integers\n",
    "        restecg_mapping = {\n",
    "        \"Value 0: normal\": 0,\n",
    "        \"Value 1: having ST-T wave abnormality (T wave inversions and/or ST elevation or depression of > 0.05 mV)\": 1,\n",
    "        \"Value 2: showing probable or definite left ventricular hypertrophy by Estes' criteria\": 2\n",
    "    }\n",
    "    \n",
    "        cp_mapping = {\n",
    "        \"Value 1: typical angina\": 0,\n",
    "        \"Value 2: atypical angina\": 1,\n",
    "        \"Value 3: non-anginal pain\": 2,\n",
    "        \"Value 4: asymptomatic\": 3\n",
    "    }\n",
    "        gender_mapping = {\n",
    "        \"Male\": 0,\n",
    "        \"Female\": 1\n",
    "    }       \n",
    "        #boolean type casting 0 1\n",
    "        exng = int(bool(exng))\n",
    "        fbs = int(bool(fbs))\n",
    "\n",
    "        #type casting the data into a dict, then transforming the dict to a data frame\n",
    "        data = {\n",
    "        'age':[int(age)],\n",
    "        'sex':[gender_mapping.get(sex,0)],\n",
    "        'cp':[cp_mapping.get(cp,0)],\n",
    "        'trtbps':[int(trtbps)],\n",
    "        'chol':[int(chol)],\n",
    "        'fbs':[fbs],\n",
    "        'restecg':[restecg_mapping.get(restecg,0)],\n",
    "        'thalachh':[int(thalachh)],\n",
    "        'exng':[exng],\n",
    "        'oldpeak':[int(oldpeak)],\n",
    "        'slp':[float(slp)],\n",
    "        'caa':[int(caa)],\n",
    "        'thall':[int(thall)]\n",
    "\n",
    "    }\n",
    "        \n",
    "\n",
    "        df3 = pd.DataFrame(data)\n",
    "        print(df3)\n",
    "\n",
    "        #prediction\n",
    "        y_pred2 = nb_model.predict(df3)\n",
    "        return y_pred2"
   ]
  },
  {
   "cell_type": "code",
   "execution_count": 11,
   "id": "46d56a35",
   "metadata": {},
   "outputs": [],
   "source": [
    "# gradio web platform\n",
    "with gr.Blocks() as demo:\n",
    "    with gr.Row():\n",
    "        age = gr.Slider(minimum=18,maximum=100,step=1)\n",
    "        sex = gr.Dropdown(choices=[\"Male\",\"Female\"],label=\"gender?\")\n",
    "\n",
    "        cp = gr.Dropdown(choices=[\"Value 1: typical angina\",\"Value 2: atypical angina\",\"Value 3: non-anginal pain\",\"Value 4: asymptomatic\"],label=\"type of angina\")\n",
    "        \n",
    "        trtbps = gr.Slider(minimum=100,maximum=200,label=\"resting heart rate?\",step=1)\n",
    "        chol = gr.Slider(minimum=150,maximum=350,label=\"cholerstrol level\",interactive=True,step=1)\n",
    "        fbs = gr.Checkbox(label=\"is the paitient fasting sugar level >120mg ?\")\n",
    "        restecg = gr.Dropdown(choices=[\"Value 0: normal\",\"Value 1: having ST-T wave abnormality (T wave inversions and/or ST elevation or depression of > 0.05 mV)\",\"Value 2: showing probable or definite left ventricular hypertrophy by Estes' criteria\"],label=\"resting electrocardiographic results?\")\n",
    "        thalachh = gr.Slider(maximum=200,minimum=100,label=\"maximum heart rate achieved?\",step=1,)\n",
    "        exng = gr.Checkbox(label=\"does the paitent have exercise induced angina\")\n",
    "        oldpeak = gr.Slider(minimum=0,maximum=6.2, step=0.1,label=\"previous peak\")\n",
    "        slp = gr.Slider(minimum=0,maximum=2,label=\"Slope\",step=1)\n",
    "        caa = gr.Slider(minimum=0,maximum=4,label=\"number of Major vessels\",step=1)\n",
    "        thall = gr.Slider(minimum=0,maximum=3,label=\"thall rate\",step=1)\n",
    "    with gr.Column():\n",
    "        run = gr.Button(\"Run prediction\")\n",
    "        output2 = gr.Textbox(label=\" Gaussian model classification\")\n",
    "\n",
    "    event = run.click(\n",
    "        fn=dinput,\n",
    "        inputs=[age,sex,cp,trtbps,chol,fbs,restecg,thalachh,exng,oldpeak,slp,caa,thall],\n",
    "        outputs=[output2]\n",
    "    )"
   ]
  },
  {
   "cell_type": "code",
   "execution_count": 12,
   "id": "beb52c8d",
   "metadata": {},
   "outputs": [
    {
     "name": "stdout",
     "output_type": "stream",
     "text": [
      "Running on local URL:  http://127.0.0.1:7860\n",
      "\n",
      "To create a public link, set `share=True` in `launch()`.\n"
     ]
    },
    {
     "data": {
      "text/html": [
       "<div><iframe src=\"http://127.0.0.1:7860/\" width=\"100%\" height=\"500\" allow=\"autoplay; camera; microphone; clipboard-read; clipboard-write;\" frameborder=\"0\" allowfullscreen></iframe></div>"
      ],
      "text/plain": [
       "<IPython.core.display.HTML object>"
      ]
     },
     "metadata": {},
     "output_type": "display_data"
    },
    {
     "data": {
      "text/plain": []
     },
     "execution_count": 12,
     "metadata": {},
     "output_type": "execute_result"
    },
    {
     "name": "stdout",
     "output_type": "stream",
     "text": [
      "   age  sex  cp  trtbps  chol  fbs  restecg  thalachh  exng  oldpeak  slp  \\\n",
      "0   18    0   0     100   150    0        0       100     0        0  0.0   \n",
      "\n",
      "   caa  thall  \n",
      "0    0      0  \n"
     ]
    }
   ],
   "source": [
    "demo.launch(share=False)"
   ]
  },
  {
   "cell_type": "markdown",
   "id": "4c565ad6",
   "metadata": {},
   "source": [
    "# Linear Regression"
   ]
  },
  {
   "cell_type": "code",
   "execution_count": 13,
   "id": "8c35f2da",
   "metadata": {},
   "outputs": [],
   "source": [
    "cars_df =pd.read_csv(\"car.csv\") # https://www.kaggle.com/datasets/nehalbirla/vehicle-dataset-from-cardekho?select=CAR+DETAILS+FROM+CAR+DEKHO.csv"
   ]
  },
  {
   "cell_type": "code",
   "execution_count": 14,
   "id": "6a0d0060",
   "metadata": {},
   "outputs": [],
   "source": [
    "#preprocessing\n",
    "cars_df[\"transmission\"] = (cars_df[\"transmission\"]==\"Manual\").astype(int)"
   ]
  },
  {
   "cell_type": "code",
   "execution_count": 15,
   "id": "3a8e8f94",
   "metadata": {},
   "outputs": [],
   "source": [
    "cars_df[\"owner\"] = pd.Categorical(cars_df[\"owner\"]).codes\n",
    "cars_df[\"nameINT\"] = pd.Categorical(cars_df[\"name\"]).codes\n",
    "cars_df[\"sellerINT\"] = pd.Categorical(cars_df[\"seller_type\"]).codes\n",
    "cars_df[\"fuelINT\"] = pd.Categorical(cars_df[\"fuel\"]).codes"
   ]
  },
  {
   "cell_type": "code",
   "execution_count": 16,
   "id": "05b0de6b",
   "metadata": {},
   "outputs": [],
   "source": [
    "cars_df = cars_df.sample(frac=1)"
   ]
  },
  {
   "cell_type": "code",
   "execution_count": 17,
   "id": "25e686ed",
   "metadata": {},
   "outputs": [
    {
     "data": {
      "text/html": [
       "<div>\n",
       "<style scoped>\n",
       "    .dataframe tbody tr th:only-of-type {\n",
       "        vertical-align: middle;\n",
       "    }\n",
       "\n",
       "    .dataframe tbody tr th {\n",
       "        vertical-align: top;\n",
       "    }\n",
       "\n",
       "    .dataframe thead th {\n",
       "        text-align: right;\n",
       "    }\n",
       "</style>\n",
       "<table border=\"1\" class=\"dataframe\">\n",
       "  <thead>\n",
       "    <tr style=\"text-align: right;\">\n",
       "      <th></th>\n",
       "      <th>name</th>\n",
       "      <th>year</th>\n",
       "      <th>selling_price</th>\n",
       "      <th>km_driven</th>\n",
       "      <th>fuel</th>\n",
       "      <th>seller_type</th>\n",
       "      <th>transmission</th>\n",
       "      <th>owner</th>\n",
       "      <th>nameINT</th>\n",
       "      <th>sellerINT</th>\n",
       "      <th>fuelINT</th>\n",
       "    </tr>\n",
       "  </thead>\n",
       "  <tbody>\n",
       "    <tr>\n",
       "      <th>2586</th>\n",
       "      <td>Toyota Innova 2.5 G (Diesel) 7 Seater</td>\n",
       "      <td>2014</td>\n",
       "      <td>725000</td>\n",
       "      <td>90000</td>\n",
       "      <td>Diesel</td>\n",
       "      <td>Individual</td>\n",
       "      <td>1</td>\n",
       "      <td>2</td>\n",
       "      <td>1398</td>\n",
       "      <td>1</td>\n",
       "      <td>1</td>\n",
       "    </tr>\n",
       "    <tr>\n",
       "      <th>1890</th>\n",
       "      <td>Mahindra Scorpio 2.6 SLX CRDe</td>\n",
       "      <td>2006</td>\n",
       "      <td>300000</td>\n",
       "      <td>120000</td>\n",
       "      <td>Diesel</td>\n",
       "      <td>Individual</td>\n",
       "      <td>1</td>\n",
       "      <td>2</td>\n",
       "      <td>680</td>\n",
       "      <td>1</td>\n",
       "      <td>1</td>\n",
       "    </tr>\n",
       "    <tr>\n",
       "      <th>2187</th>\n",
       "      <td>Hyundai Creta 1.6 SX Automatic Diesel</td>\n",
       "      <td>2015</td>\n",
       "      <td>1150000</td>\n",
       "      <td>54634</td>\n",
       "      <td>Diesel</td>\n",
       "      <td>Trustmark Dealer</td>\n",
       "      <td>0</td>\n",
       "      <td>2</td>\n",
       "      <td>387</td>\n",
       "      <td>2</td>\n",
       "      <td>1</td>\n",
       "    </tr>\n",
       "    <tr>\n",
       "      <th>2710</th>\n",
       "      <td>Honda City 1.5 V MT</td>\n",
       "      <td>2009</td>\n",
       "      <td>250000</td>\n",
       "      <td>70000</td>\n",
       "      <td>Petrol</td>\n",
       "      <td>Individual</td>\n",
       "      <td>1</td>\n",
       "      <td>4</td>\n",
       "      <td>307</td>\n",
       "      <td>1</td>\n",
       "      <td>4</td>\n",
       "    </tr>\n",
       "    <tr>\n",
       "      <th>3958</th>\n",
       "      <td>Mahindra Xylo H8 ABS with Airbags</td>\n",
       "      <td>2018</td>\n",
       "      <td>1100000</td>\n",
       "      <td>70000</td>\n",
       "      <td>Diesel</td>\n",
       "      <td>Individual</td>\n",
       "      <td>1</td>\n",
       "      <td>0</td>\n",
       "      <td>774</td>\n",
       "      <td>1</td>\n",
       "      <td>1</td>\n",
       "    </tr>\n",
       "  </tbody>\n",
       "</table>\n",
       "</div>"
      ],
      "text/plain": [
       "                                       name  year  selling_price  km_driven  \\\n",
       "2586  Toyota Innova 2.5 G (Diesel) 7 Seater  2014         725000      90000   \n",
       "1890          Mahindra Scorpio 2.6 SLX CRDe  2006         300000     120000   \n",
       "2187  Hyundai Creta 1.6 SX Automatic Diesel  2015        1150000      54634   \n",
       "2710                    Honda City 1.5 V MT  2009         250000      70000   \n",
       "3958      Mahindra Xylo H8 ABS with Airbags  2018        1100000      70000   \n",
       "\n",
       "        fuel       seller_type  transmission  owner  nameINT  sellerINT  \\\n",
       "2586  Diesel        Individual             1      2     1398          1   \n",
       "1890  Diesel        Individual             1      2      680          1   \n",
       "2187  Diesel  Trustmark Dealer             0      2      387          2   \n",
       "2710  Petrol        Individual             1      4      307          1   \n",
       "3958  Diesel        Individual             1      0      774          1   \n",
       "\n",
       "      fuelINT  \n",
       "2586        1  \n",
       "1890        1  \n",
       "2187        1  \n",
       "2710        4  \n",
       "3958        1  "
      ]
     },
     "execution_count": 17,
     "metadata": {},
     "output_type": "execute_result"
    }
   ],
   "source": [
    "cars_df.head()\n",
    "#before and after"
   ]
  },
  {
   "cell_type": "code",
   "execution_count": 18,
   "id": "ed22d507",
   "metadata": {
    "scrolled": true
   },
   "outputs": [
    {
     "data": {
      "text/html": [
       "<div>\n",
       "<style scoped>\n",
       "    .dataframe tbody tr th:only-of-type {\n",
       "        vertical-align: middle;\n",
       "    }\n",
       "\n",
       "    .dataframe tbody tr th {\n",
       "        vertical-align: top;\n",
       "    }\n",
       "\n",
       "    .dataframe thead th {\n",
       "        text-align: right;\n",
       "    }\n",
       "</style>\n",
       "<table border=\"1\" class=\"dataframe\">\n",
       "  <thead>\n",
       "    <tr style=\"text-align: right;\">\n",
       "      <th></th>\n",
       "      <th>year</th>\n",
       "      <th>selling_price</th>\n",
       "      <th>km_driven</th>\n",
       "      <th>transmission</th>\n",
       "      <th>owner</th>\n",
       "      <th>sellerINT</th>\n",
       "    </tr>\n",
       "  </thead>\n",
       "  <tbody>\n",
       "    <tr>\n",
       "      <th>2586</th>\n",
       "      <td>2014</td>\n",
       "      <td>725000</td>\n",
       "      <td>90000</td>\n",
       "      <td>1</td>\n",
       "      <td>2</td>\n",
       "      <td>1</td>\n",
       "    </tr>\n",
       "    <tr>\n",
       "      <th>1890</th>\n",
       "      <td>2006</td>\n",
       "      <td>300000</td>\n",
       "      <td>120000</td>\n",
       "      <td>1</td>\n",
       "      <td>2</td>\n",
       "      <td>1</td>\n",
       "    </tr>\n",
       "    <tr>\n",
       "      <th>2187</th>\n",
       "      <td>2015</td>\n",
       "      <td>1150000</td>\n",
       "      <td>54634</td>\n",
       "      <td>0</td>\n",
       "      <td>2</td>\n",
       "      <td>2</td>\n",
       "    </tr>\n",
       "    <tr>\n",
       "      <th>2710</th>\n",
       "      <td>2009</td>\n",
       "      <td>250000</td>\n",
       "      <td>70000</td>\n",
       "      <td>1</td>\n",
       "      <td>4</td>\n",
       "      <td>1</td>\n",
       "    </tr>\n",
       "    <tr>\n",
       "      <th>3958</th>\n",
       "      <td>2018</td>\n",
       "      <td>1100000</td>\n",
       "      <td>70000</td>\n",
       "      <td>1</td>\n",
       "      <td>0</td>\n",
       "      <td>1</td>\n",
       "    </tr>\n",
       "  </tbody>\n",
       "</table>\n",
       "</div>"
      ],
      "text/plain": [
       "      year  selling_price  km_driven  transmission  owner  sellerINT\n",
       "2586  2014         725000      90000             1      2          1\n",
       "1890  2006         300000     120000             1      2          1\n",
       "2187  2015        1150000      54634             0      2          2\n",
       "2710  2009         250000      70000             1      4          1\n",
       "3958  2018        1100000      70000             1      0          1"
      ]
     },
     "execution_count": 18,
     "metadata": {},
     "output_type": "execute_result"
    }
   ],
   "source": [
    "%matplotlib inline\n",
    "#Std_Scaler = StandardScaler() # i thought i would scale the data but i didn't know what i was doing if i did, in km_driven\n",
    "#in km_driven graph below the data is focused in one area, i thought i would remove the outliers but i didn't know if it would\n",
    "#make a difference, Standard Scaler doesnt do anything\n",
    "cars_df2 = cars_df[[\"year\",\"selling_price\",\"km_driven\",\"transmission\", \"owner\",\"sellerINT\",]]\n",
    "cars_df2.head()\n",
    "#after\n",
    "\n",
    "#data was chosen based on linearty"
   ]
  },
  {
   "cell_type": "code",
   "execution_count": 19,
   "id": "20b36068",
   "metadata": {},
   "outputs": [
    {
     "data": {
      "image/png": "[encoded data removed]",
      "text/plain": [
       "<Figure size 640x480 with 1 Axes>"
      ]
     },
     "metadata": {},
     "output_type": "display_data"
    },
    {
     "data": {
      "image/png": "[encoded data removed]",
      "text/plain": [
       "<Figure size 640x480 with 1 Axes>"
      ]
     },
     "metadata": {},
     "output_type": "display_data"
    },
    {
     "data": {
      "image/png": "[encoded data removed]",
      "text/plain": [
       "<Figure size 640x480 with 1 Axes>"
      ]
     },
     "metadata": {},
     "output_type": "display_data"
    },
    {
     "data": {
      "image/png": "[encoded data removed]",
      "text/plain": [
       "<Figure size 640x480 with 1 Axes>"
      ]
     },
     "metadata": {},
     "output_type": "display_data"
    },
    {
     "data": {
      "image/png": "[encoded data removed]",
      "text/plain": [
       "<Figure size 640x480 with 1 Axes>"
      ]
     },
     "metadata": {},
     "output_type": "display_data"
    }
   ],
   "source": [
    "for col in cars_df2.columns[1:]:\n",
    "    plt.scatter(cars_df2[col], cars_df2[\"selling_price\"])\n",
    "    plt.ylabel(\"selling price\")\n",
    "    plt.xlabel(col)\n",
    "    plt.title(\"selling price vs \" + col)\n",
    "    plt.show()"
   ]
  },
  {
   "cell_type": "code",
   "execution_count": 20,
   "id": "783e4899",
   "metadata": {},
   "outputs": [],
   "source": [
    "train_valid, test = train_test_split(cars_df2, test_size=0.2, random_state=42)\n",
    "train, valid = train_test_split(train_valid, test_size=0.25, random_state=42)  # 0.25 * 0.8 = 0.2"
   ]
  },
  {
   "cell_type": "code",
   "execution_count": 21,
   "id": "7efb4e55",
   "metadata": {},
   "outputs": [],
   "source": [
    "x_train = train.drop('selling_price', axis=1)\n",
    "y_train = train['selling_price']\n",
    "\n",
    "x_valid = valid.drop('selling_price', axis=1)\n",
    "y_valid = valid['selling_price']\n",
    "\n",
    "x_test = test.drop('selling_price', axis=1)\n",
    "y_test = test['selling_price']"
   ]
  },
  {
   "cell_type": "code",
   "execution_count": 22,
   "id": "c07bd63e",
   "metadata": {},
   "outputs": [
    {
     "data": {
      "text/plain": [
       "-0.4012421750328967"
      ]
     },
     "execution_count": 22,
     "metadata": {},
     "output_type": "execute_result"
    }
   ],
   "source": [
    "lg_model = LinearRegression()\n",
    "lg_model = lg_model.fit(x_train,y_train)\n",
    "\n",
    "lg_model.score(x_valid,y_test)  #the closer to 1 the better"
   ]
  },
  {
   "cell_type": "code",
   "execution_count": 23,
   "id": "e4372f8e",
   "metadata": {},
   "outputs": [],
   "source": [
    "#gradio ml function\n",
    "def lf_fn(name, year, km_driven, transmission, owner, seller):\n",
    "    nameINT = cars_df.loc[cars_df[\"name\"]==name,\"nameINT\"].values[0] #mapping the user input into the integer value of that input\n",
    "    sellerINT = cars_df.loc[cars_df[\"seller_type\"]==seller,\"sellerINT\"].values[0]\n",
    "    year = int(year)\n",
    "    km_driven = int(km_driven)\n",
    "    transmission = int(transmission)\n",
    "    owner = int(owner)\n",
    "    \n",
    "    data = {\n",
    "        \"year\":[year],\n",
    "        \"km_driven\":[km_driven],\n",
    "        \"transmission\":[transmission],\n",
    "        \"owner\":[owner],\n",
    "        \"sellerINT\":[sellerINT]\n",
    "        \n",
    "        \n",
    "    }\n",
    "    y_predict = pd.DataFrame(data)\n",
    "    y_predict = lg_model.predict(y_predict)\n",
    "    return y_predict"
   ]
  },
  {
   "cell_type": "code",
   "execution_count": 28,
   "id": "c1ffce78",
   "metadata": {},
   "outputs": [],
   "source": [
    "with gr.Blocks() as demo2:\n",
    "    with gr.Row():\n",
    "        name = gr.Dropdown(choices=cars_df[\"name\"].unique().tolist(),label=\"car name?\")\n",
    "        year = gr.Dropdown(choices=cars_df[\"year\"].unique().tolist(),label=\"year?\")\n",
    "        km_driven = gr.Slider(minimum=0,maximum=300000,label=\"km driven?\")\n",
    "        tranmission = gr.Dropdown(choices=cars_df[\"transmission\"].unique().tolist(), label=\"tranmission type?\")\n",
    "        owner = gr.Dropdown(choices=cars_df[\"owner\"].unique().tolist(), label=\"how many owners\")\n",
    "        seller = gr.Dropdown(choices=cars_df[\"seller_type\"].unique().tolist(),label=\"type of seller\")\n",
    "        \n",
    "    with gr.Row():\n",
    "        run = gr.Button(\"Run Prediction\")\n",
    "        outputp = gr.Textbox(label=\"prediction price would be\")\n",
    "    event = run.click(\n",
    "        fn=lf_fn,\n",
    "        inputs=[name,year,km_driven,tranmission,owner,seller],\n",
    "        outputs=[outputp]\n",
    "        \n",
    "    )\n",
    "        \n",
    "        "
   ]
  },
  {
   "cell_type": "code",
   "execution_count": 29,
   "id": "ac4f5fb9",
   "metadata": {},
   "outputs": [
    {
     "name": "stdout",
     "output_type": "stream",
     "text": [
      "Running on local URL:  http://127.0.0.1:7862\n",
      "\n",
      "To create a public link, set `share=True` in `launch()`.\n"
     ]
    },
    {
     "data": {
      "text/html": [
       "<div><iframe src=\"http://127.0.0.1:7862/\" width=\"100%\" height=\"500\" allow=\"autoplay; camera; microphone; clipboard-read; clipboard-write;\" frameborder=\"0\" allowfullscreen></iframe></div>"
      ],
      "text/plain": [
       "<IPython.core.display.HTML object>"
      ]
     },
     "metadata": {},
     "output_type": "display_data"
    },
    {
     "data": {
      "text/plain": []
     },
     "execution_count": 29,
     "metadata": {},
     "output_type": "execute_result"
    }
   ],
   "source": [
    "demo2.launch(share=False)"
   ]
  },
  {
   "cell_type": "code",
   "execution_count": null,
   "id": "3163ceaa",
   "metadata": {},
   "outputs": [],
   "source": []
  }
 ],
 "metadata": {
  "kernelspec": {
   "display_name": "Python 3 (ipykernel)",
   "language": "python",
   "name": "python3"
  },
  "language_info": {
   "codemirror_mode": {
    "name": "ipython",
    "version": 3
   },
   "file_extension": ".py",
   "mimetype": "text/x-python",
   "name": "python",
   "nbconvert_exporter": "python",
   "pygments_lexer": "ipython3",
   "version": "3.11.7"
  }
 },
 "nbformat": 4,
 "nbformat_minor": 5
}
